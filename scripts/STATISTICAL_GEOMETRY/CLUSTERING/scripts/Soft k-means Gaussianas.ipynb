{
 "cells": [
  {
   "cell_type": "markdown",
   "metadata": {},
   "source": [
    "<h1> Soft k-means para Mistura de Gaussianas </h1>"
   ]
  },
  {
   "cell_type": "code",
   "execution_count": 1,
   "metadata": {
    "collapsed": false
   },
   "outputs": [
    {
     "name": "stdout",
     "output_type": "stream",
     "text": [
      "Once deleted, variables cannot be recovered. Proceed (y/[n])? y\n"
     ]
    }
   ],
   "source": [
    "%reset"
   ]
  },
  {
   "cell_type": "code",
   "execution_count": 2,
   "metadata": {
    "collapsed": false
   },
   "outputs": [],
   "source": [
    "#PACOTES UTILIZADOS\n",
    "import math\n",
    "import numpy as np\n",
    "import pandas as pd\n",
    "import random as rd\n",
    "import matplotlib.pyplot as plt\n",
    "import seaborn as sns\n",
    "import scipy\n",
    "import scipy.stats as stats"
   ]
  },
  {
   "cell_type": "code",
   "execution_count": 3,
   "metadata": {
    "collapsed": false
   },
   "outputs": [],
   "source": [
    "#ENTRADAS\n",
    "d = 3 #dimensao dos dados\n",
    "N = 1000 #quantidade de dados\n",
    "k = 3 #quantidade de clusters"
   ]
  },
  {
   "cell_type": "markdown",
   "metadata": {},
   "source": [
    "<h2> Vamos gerar uma mistura de Gaussianas Multivariadas </h2>\n",
    "\n",
    "<ol type='1'>\n",
    "<li> Defina aleatóriamente os pesos dos cluster $p=(p_1,\\ldots,p_k)$, com $p_j\\in (0,1)$ e $\\sum_j p_j=1$.\n",
    "<li> Para cada cluster, considere vetor de médias gerados uniformemente, $\\mu = (\\mu_1,\\ldots,\\mu_k)$.\n",
    "<li> Vamos gerar matrizes de covariâncias: \n",
    "    <ol type = 'a'>\n",
    "    <li> considere uma matriz uniforme\n",
    "    <li> faça a decomposição $QR$\n",
    "    <li> fixe uma matriz diagonal Diag (com entradas positivas) \n",
    "    <li> defina a matriz de covariância por $\\Sigma = QˆT * Diag * Q$\n",
    "    </ol>\n",
    "<li> Defina a lista de parâmetros por param = [media, covariancia, peso], para cada cluster.\n",
    "</ol>\n",
    "\n",
    "Resultado: <b> Mistura de Gaussianas</b>:\n",
    "$$p(x;param) = \\sum_j\\mathcal{N(x \\mid \\mu_j,\\Sigma_j)\\,p_j}$$"
   ]
  },
  {
   "cell_type": "code",
   "execution_count": 9,
   "metadata": {
    "collapsed": false
   },
   "outputs": [
    {
     "data": {
      "text/plain": [
       "[[array([ 9.65754826,  9.10533628,  0.5065607 ]),\n",
       "  array([[ 0.27533313,  0.01654628,  0.12637572],\n",
       "         [ 0.01654628,  0.16974777,  0.02258024],\n",
       "         [ 0.12637572,  0.02258024,  0.31996468]]),\n",
       "  0.3015069359335944],\n",
       " [array([ 3.60543962,  2.76979756,  2.91007914]),\n",
       "  array([[ 0.6923468 , -0.09474552,  0.06698367],\n",
       "         [-0.09474552,  0.27264213, -0.20260829],\n",
       "         [ 0.06698367, -0.20260829,  0.45598575]]),\n",
       "  0.28437240327882396],\n",
       " [array([ 7.96316214,  4.45363697,  5.66749492]),\n",
       "  array([[ 0.20154847,  0.12506019,  0.02191133],\n",
       "         [ 0.12506019,  0.69026946,  0.22723273],\n",
       "         [ 0.02191133,  0.22723273,  0.25569563]]),\n",
       "  0.4141206607875817]]"
      ]
     },
     "execution_count": 9,
     "metadata": {},
     "output_type": "execute_result"
    }
   ],
   "source": [
    "def gera_param(k,d):\n",
    "    \n",
    "    param = []\n",
    "\n",
    "    p = [np.random.uniform(1,9) for _ in range(k)]\n",
    "    p = p/np.sum(p) #vetor de pesos\n",
    "\n",
    "    #p = np.random.dirichlet(np.ones(k), size=1)\n",
    "    #p = p[0]\n",
    "\n",
    "    for h in range(k):\n",
    "        m = np.random.uniform(0,10,d) #medias\n",
    "        a = np.random.rand(d,d)\n",
    "        q,r = np.linalg.qr(a)\n",
    "        cov = np.dot(q.T,np.dot(np.diag(np.random.uniform(0.1,0.9,d)),q)) #matrizes de covariancia\n",
    "        param.append([m,cov,p[h]])\n",
    "\n",
    "\n",
    "    return param\n",
    "\n",
    "param = gera_param(k,d)\n",
    "par_orig = param\n",
    "\n",
    "param"
   ]
  },
  {
   "cell_type": "code",
   "execution_count": 10,
   "metadata": {
    "collapsed": false
   },
   "outputs": [
    {
     "data": {
      "image/png": "[encoded data removed]",
      "text/plain": [
       "<matplotlib.figure.Figure at 0x112990208>"
      ]
     },
     "metadata": {},
     "output_type": "display_data"
    }
   ],
   "source": [
    "def normal(x,par):\n",
    "    m,cov,peso = par[0],par[1],par[2]\n",
    "    return stats.multivariate_normal.pdf(x,m,cov)*peso\n",
    "\n",
    "D = {}\n",
    "p = []\n",
    "for h in range(k):\n",
    "    mean = param[h][0]\n",
    "    cov = param[h][1]\n",
    "    D[h] = np.random.multivariate_normal(mean, cov, N)\n",
    "    p.extend([param[h][2]/N for _ in range(N)])\n",
    "        \n",
    "datac = []\n",
    "c = []\n",
    "for h in range(k):\n",
    "    datac.extend(D[h])\n",
    "    c.extend([h for _ in D[h]])\n",
    "datac = pd.concat([pd.Series(datac),pd.Series(c)], axis=1)\n",
    "datac.columns = ['medias','cluster']\n",
    "dtind = np.random.choice(datac.index,N,p)\n",
    "datac = datac[datac.index.isin(dtind)]\n",
    "\n",
    "data = datac['medias'].tolist()\n",
    "\n",
    "for h in range(k):\n",
    "    datah = datac.loc[datac.cluster == h]\n",
    "    x = [item[0] for item in datah.medias]\n",
    "    y = [item[1] for item in datah.medias]\n",
    "    plt.scatter(x,y)\n",
    "\n",
    "plt.show()"
   ]
  },
  {
   "cell_type": "markdown",
   "metadata": {},
   "source": [
    "<h3> Novos parametros e pesos serão gerados. </h3>\n",
    "Deve-se saber se o algoritmo será capaz de capturar as informações originais,<br>\n",
    "partindo apenas das informações dos dados.\n"
   ]
  },
  {
   "cell_type": "code",
   "execution_count": 11,
   "metadata": {
    "collapsed": false
   },
   "outputs": [
    {
     "data": {
      "text/plain": [
       "[[array([ 9.00860855,  2.72579105,  2.92012534]),\n",
       "  array([[ 0.7026982 , -0.05102   ,  0.05202402],\n",
       "         [-0.05102   ,  0.48238983, -0.0124436 ],\n",
       "         [ 0.05202402, -0.0124436 ,  0.46461737]]),\n",
       "  0.52427692670913462],\n",
       " [array([ 5.73342737,  8.60160507,  7.43628404]),\n",
       "  array([[ 0.44264544,  0.04339032,  0.17421133],\n",
       "         [ 0.04339032,  0.49581915, -0.09031376],\n",
       "         [ 0.17421133, -0.09031376,  0.57888782]]),\n",
       "  0.068191544901484727],\n",
       " [array([ 4.62514754,  2.27056139,  5.71813516]),\n",
       "  array([[ 0.36200564,  0.14476631, -0.06801332],\n",
       "         [ 0.14476631,  0.50954341,  0.09434239],\n",
       "         [-0.06801332,  0.09434239,  0.58458068]]),\n",
       "  0.40753152838938056]]"
      ]
     },
     "execution_count": 11,
     "metadata": {},
     "output_type": "execute_result"
    }
   ],
   "source": [
    "#PARAMETROS GERADOS ALEATORIAMENTE\n",
    "param = []\n",
    "p = [np.random.uniform(1,9) for _ in range(k)]\n",
    "p = p/np.sum(p) #vetor de pesos\n",
    "#p = np.random.dirichlet(np.ones(k), size=1)\n",
    "#p = p[0]\n",
    "\n",
    "for h in range(k):\n",
    "    m = np.random.uniform(0,10,d) #medias\n",
    "    a = np.random.rand(d,d)\n",
    "    q,r = np.linalg.qr(a)\n",
    "    cov = np.dot(q.T,np.dot(np.diag(np.random.uniform(0.1,0.9,d)),q)) #matrizes de covariancia\n",
    "    param.append([m,cov,p[h]])\n",
    "param"
   ]
  },
  {
   "cell_type": "code",
   "execution_count": 12,
   "metadata": {
    "collapsed": false
   },
   "outputs": [
    {
     "data": {
      "text/plain": [
       "[[array([ 9.65754826,  9.10533628,  0.5065607 ]),\n",
       "  array([[ 0.27533313,  0.01654628,  0.12637572],\n",
       "         [ 0.01654628,  0.16974777,  0.02258024],\n",
       "         [ 0.12637572,  0.02258024,  0.31996468]]),\n",
       "  0.3015069359335944],\n",
       " [array([ 3.60543962,  2.76979756,  2.91007914]),\n",
       "  array([[ 0.6923468 , -0.09474552,  0.06698367],\n",
       "         [-0.09474552,  0.27264213, -0.20260829],\n",
       "         [ 0.06698367, -0.20260829,  0.45598575]]),\n",
       "  0.28437240327882396],\n",
       " [array([ 7.96316214,  4.45363697,  5.66749492]),\n",
       "  array([[ 0.20154847,  0.12506019,  0.02191133],\n",
       "         [ 0.12506019,  0.69026946,  0.22723273],\n",
       "         [ 0.02191133,  0.22723273,  0.25569563]]),\n",
       "  0.4141206607875817]]"
      ]
     },
     "execution_count": 12,
     "metadata": {},
     "output_type": "execute_result"
    }
   ],
   "source": [
    "#PARAMETROS ORIGINAIS - QUE GERARAM OS DADOS\n",
    "par_orig"
   ]
  },
  {
   "cell_type": "code",
   "execution_count": 13,
   "metadata": {
    "collapsed": true
   },
   "outputs": [],
   "source": [
    "def Epasso(D,dens,param):\n",
    "    N = len(D)\n",
    "    k = len(param)\n",
    "    q = np.zeros((k,N))\n",
    "    for i in range(N):            \n",
    "        v = np.array([dens(D[i],param[h]) for h in range(k)])\n",
    "        v = v/np.sum(v)\n",
    "        for h in range(k):\n",
    "            q[h,i] = v[h]\n",
    "    return q\n",
    "\n",
    "def Mpasso(D,q,param):\n",
    "    N = len(D)\n",
    "    k = len(param)\n",
    "    new_param = []\n",
    "    for h in range(k):\n",
    "        peso = (1/N)*np.sum([q[h,i] for i in range(N)])\n",
    "        med = (1/N)*sum([q[h,i]*D[i] for i in range(N)])/peso\n",
    "        cov = (1/N)*sum([q[h,i]*np.dot(np.matrix(D[i]).T, np.matrix(D[i])) \n",
    "                         for i in range(N)])/peso - np.dot(np.matrix(med).T, np.matrix(med))\n",
    "        new_param.append([med, cov, peso])\n",
    "    return new_param"
   ]
  },
  {
   "cell_type": "code",
   "execution_count": 14,
   "metadata": {
    "collapsed": false,
    "scrolled": true
   },
   "outputs": [
    {
     "name": "stdout",
     "output_type": "stream",
     "text": [
      "0\n",
      "1\n",
      "2\n",
      "3\n",
      "4\n",
      "5\n",
      "6\n",
      "7\n",
      "8\n",
      "9\n",
      "10\n",
      "11\n",
      "12\n",
      "13\n",
      "14\n",
      "15\n",
      "16\n",
      "17\n",
      "18\n",
      "19\n",
      "20\n",
      "21\n",
      "22\n",
      "23\n",
      "24\n",
      "25\n",
      "26\n",
      "27\n",
      "28\n",
      "29\n",
      "30\n",
      "31\n",
      "32\n",
      "33\n",
      "34\n",
      "35\n",
      "36\n",
      "37\n",
      "38\n",
      "39\n",
      "40\n",
      "41\n",
      "42\n",
      "43\n",
      "44\n",
      "45\n",
      "46\n",
      "47\n",
      "48\n",
      "49\n",
      "50\n",
      "51\n",
      "52\n",
      "53\n",
      "54\n",
      "55\n",
      "56\n",
      "57\n",
      "58\n",
      "59\n",
      "60\n",
      "61\n",
      "62\n",
      "63\n",
      "64\n",
      "65\n",
      "66\n",
      "67\n",
      "68\n",
      "69\n",
      "70\n",
      "71\n",
      "72\n",
      "73\n",
      "74\n",
      "75\n",
      "76\n",
      "77\n",
      "78\n",
      "79\n",
      "80\n",
      "81\n",
      "82\n",
      "83\n",
      "84\n",
      "85\n",
      "86\n",
      "87\n",
      "88\n",
      "89\n",
      "90\n",
      "91\n",
      "92\n",
      "93\n",
      "94\n",
      "95\n",
      "96\n",
      "97\n",
      "98\n",
      "99\n"
     ]
    }
   ],
   "source": [
    "it = 0\n",
    "while it < 100: \n",
    "    print(it)\n",
    "    try:\n",
    "        q = Epasso(data,normal,param)\n",
    "        param = Mpasso(data,q,param)\n",
    "        it+=1\n",
    "    except:\n",
    "        print('matriz singular - novos parametros gerados')\n",
    "        param = gera_param(k,d)\n",
    "        it = 0"
   ]
  },
  {
   "cell_type": "code",
   "execution_count": 15,
   "metadata": {
    "collapsed": false
   },
   "outputs": [
    {
     "data": {
      "text/plain": [
       "[[array([ 9.67553996,  9.14067595,  0.51240881]),\n",
       "  matrix([[ 0.27486821,  0.0236295 ,  0.13433822],\n",
       "          [ 0.0236295 ,  0.17219613,  0.01880779],\n",
       "          [ 0.13433822,  0.01880779,  0.31890561]]),\n",
       "  0.33687943262411346],\n",
       " [array([ 7.96699618,  4.53184379,  5.6813173 ]),\n",
       "  matrix([[ 0.18249741,  0.14612557,  0.03794527],\n",
       "          [ 0.14612557,  0.74953492,  0.23316925],\n",
       "          [ 0.03794527,  0.23316925,  0.26226579]]),\n",
       "  0.31678522222140609],\n",
       " [array([ 3.60963014,  2.69648797,  2.95232662]),\n",
       "  matrix([[ 0.75536421, -0.08207242,  0.0590085 ],\n",
       "          [-0.08207242,  0.283829  , -0.21511293],\n",
       "          [ 0.0590085 , -0.21511293,  0.44248397]]),\n",
       "  0.3463353451544805]]"
      ]
     },
     "execution_count": 15,
     "metadata": {},
     "output_type": "execute_result"
    }
   ],
   "source": [
    "param"
   ]
  },
  {
   "cell_type": "code",
   "execution_count": 16,
   "metadata": {
    "collapsed": false
   },
   "outputs": [
    {
     "data": {
      "text/plain": [
       "[[array([ 9.65754826,  9.10533628,  0.5065607 ]),\n",
       "  array([[ 0.27533313,  0.01654628,  0.12637572],\n",
       "         [ 0.01654628,  0.16974777,  0.02258024],\n",
       "         [ 0.12637572,  0.02258024,  0.31996468]]),\n",
       "  0.3015069359335944],\n",
       " [array([ 3.60543962,  2.76979756,  2.91007914]),\n",
       "  array([[ 0.6923468 , -0.09474552,  0.06698367],\n",
       "         [-0.09474552,  0.27264213, -0.20260829],\n",
       "         [ 0.06698367, -0.20260829,  0.45598575]]),\n",
       "  0.28437240327882396],\n",
       " [array([ 7.96316214,  4.45363697,  5.66749492]),\n",
       "  array([[ 0.20154847,  0.12506019,  0.02191133],\n",
       "         [ 0.12506019,  0.69026946,  0.22723273],\n",
       "         [ 0.02191133,  0.22723273,  0.25569563]]),\n",
       "  0.4141206607875817]]"
      ]
     },
     "execution_count": 16,
     "metadata": {},
     "output_type": "execute_result"
    }
   ],
   "source": [
    "par_orig"
   ]
  },
  {
   "cell_type": "markdown",
   "metadata": {},
   "source": [
    "<h2> K-means ++ : Uma boa escolha inicial dos parametros."
   ]
  },
  {
   "cell_type": "code",
   "execution_count": 17,
   "metadata": {
    "collapsed": false
   },
   "outputs": [
    {
     "data": {
      "text/plain": [
       "[[array([ 4.68752497,  2.10519917,  3.74842845]),\n",
       "  matrix([[ 0.14186044, -0.01318721, -0.0023033 ],\n",
       "          [-0.01318721,  0.13529891, -0.05573502],\n",
       "          [-0.0023033 , -0.05573502,  0.1745444 ]]),\n",
       "  0.03664302600472813],\n",
       " [array([ 8.84753072,  6.90710248,  3.01741493]),\n",
       "  matrix([[ 0.95918994,  2.049725  , -2.11811803],\n",
       "          [ 2.049725  ,  5.75729444, -5.82734021],\n",
       "          [-2.11811803, -5.82734021,  6.96455215]]),\n",
       "  0.6536643026004728],\n",
       " [array([ 3.48209554,  2.76644831,  2.85813099]),\n",
       "  matrix([[ 0.67422093, -0.00589265, -0.04728504],\n",
       "          [-0.00589265,  0.25514222, -0.17168377],\n",
       "          [-0.04728504, -0.17168377,  0.3903235 ]]),\n",
       "  0.30969267139479906]]"
      ]
     },
     "execution_count": 17,
     "metadata": {},
     "output_type": "execute_result"
    }
   ],
   "source": [
    "tam = 50 #quantidade de vizinhos a considerar\n",
    "\n",
    "prob = np.array([1/len(data) for _ in data])\n",
    "m = data[np.random.choice(len(data),p=prob)]\n",
    "C = [[m, np.identity(k),0]]\n",
    "dist = scipy.spatial.distance.mahalanobis\n",
    "\n",
    "df = pd.DataFrame([[a,dist(a,m,np.identity(k))] for a in data])\n",
    "df.columns = ['data','dist']\n",
    "knn = df.sort_values('dist').reset_index()\n",
    "knn = knn[knn.index<=50]\n",
    "m = knn.data.mean()\n",
    "cv = sum([np.dot(np.matrix(v).T, np.matrix(v)) for v in knn.data])/len(knn.data) - np.dot(np.matrix(m).T,np.matrix(m))\n",
    "\n",
    "C = [[m,cv,0]]\n",
    "\n",
    "for _ in range(1,k):\n",
    "    prob = [min([dist(a,k[0],k[1])[0,0] for k in C]) for a in data]\n",
    "    prob = prob/sum(prob)\n",
    "    prob = prob.tolist()\n",
    "    m = data[np.random.choice(len(data),p=prob)]\n",
    "\n",
    "    df = pd.DataFrame([[a, dist(a,m,np.identity(k))] for a in data])\n",
    "    df.columns = ['data','dist']\n",
    "    knn = df.sort_values('dist').reset_index()\n",
    "    knn = knn[knn.index<=50]\n",
    "    m = knn.data.mean()\n",
    "    cv = sum([np.dot(np.matrix(v).T, np.matrix(v)) for v in knn.data])/len(knn.data) - np.dot(np.matrix(m).T,np.matrix(m))\n",
    "    C.append([m,cv,0])\n",
    "\n",
    "NC = []\n",
    "for k in range(k):\n",
    "    df = pd.DataFrame([[a,np.argmin([dist(a,k[0],k[1])[0,0] for k in C])] for a in data])\n",
    "    df.columns = ['data','cluster']\n",
    "    dfc = df.loc[df.cluster == k]\n",
    "    mc = dfc.data.mean()\n",
    "    cvc = sum([np.dot(np.matrix(a).T,np.matrix(a)) for a in dfc.data])/len(dfc) - np.dot(np.matrix(mc).T,np.matrix(mc))\n",
    "    pc = len(dfc)/len(data)\n",
    "    NC.append([mc,cvc,pc])\n",
    "NC"
   ]
  },
  {
   "cell_type": "code",
   "execution_count": 18,
   "metadata": {
    "collapsed": false
   },
   "outputs": [
    {
     "data": {
      "text/plain": [
       "[[array([ 9.65754826,  9.10533628,  0.5065607 ]),\n",
       "  array([[ 0.27533313,  0.01654628,  0.12637572],\n",
       "         [ 0.01654628,  0.16974777,  0.02258024],\n",
       "         [ 0.12637572,  0.02258024,  0.31996468]]),\n",
       "  0.3015069359335944],\n",
       " [array([ 3.60543962,  2.76979756,  2.91007914]),\n",
       "  array([[ 0.6923468 , -0.09474552,  0.06698367],\n",
       "         [-0.09474552,  0.27264213, -0.20260829],\n",
       "         [ 0.06698367, -0.20260829,  0.45598575]]),\n",
       "  0.28437240327882396],\n",
       " [array([ 7.96316214,  4.45363697,  5.66749492]),\n",
       "  array([[ 0.20154847,  0.12506019,  0.02191133],\n",
       "         [ 0.12506019,  0.69026946,  0.22723273],\n",
       "         [ 0.02191133,  0.22723273,  0.25569563]]),\n",
       "  0.4141206607875817]]"
      ]
     },
     "execution_count": 18,
     "metadata": {},
     "output_type": "execute_result"
    }
   ],
   "source": [
    "par_orig"
   ]
  },
  {
   "cell_type": "code",
   "execution_count": 22,
   "metadata": {
    "collapsed": false,
    "scrolled": true
   },
   "outputs": [
    {
     "name": "stdout",
     "output_type": "stream",
     "text": [
      "0\n",
      "1\n",
      "2\n",
      "3\n",
      "4\n",
      "5\n",
      "6\n",
      "7\n",
      "8\n",
      "9\n",
      "10\n",
      "11\n",
      "12\n",
      "13\n",
      "14\n",
      "15\n",
      "16\n",
      "17\n",
      "18\n",
      "19\n",
      "20\n",
      "21\n",
      "22\n",
      "23\n",
      "24\n",
      "25\n",
      "26\n",
      "27\n",
      "28\n",
      "29\n",
      "30\n",
      "31\n",
      "32\n",
      "33\n",
      "34\n",
      "35\n",
      "36\n",
      "37\n",
      "38\n",
      "39\n",
      "40\n",
      "41\n",
      "42\n",
      "43\n",
      "44\n",
      "45\n",
      "46\n",
      "47\n",
      "48\n",
      "49\n",
      "50\n",
      "51\n",
      "52\n",
      "53\n",
      "54\n",
      "55\n",
      "56\n",
      "57\n",
      "58\n",
      "59\n",
      "60\n",
      "61\n",
      "62\n",
      "63\n",
      "64\n",
      "65\n",
      "66\n",
      "67\n",
      "68\n",
      "69\n",
      "70\n",
      "71\n",
      "72\n",
      "73\n",
      "74\n",
      "75\n",
      "76\n",
      "77\n",
      "78\n",
      "79\n",
      "80\n",
      "81\n",
      "82\n",
      "83\n",
      "84\n",
      "85\n",
      "86\n",
      "87\n",
      "88\n",
      "89\n",
      "90\n",
      "91\n",
      "92\n",
      "93\n",
      "94\n",
      "95\n",
      "96\n",
      "97\n",
      "98\n",
      "99\n"
     ]
    }
   ],
   "source": [
    "param = NC\n",
    "it = 0\n",
    "while it < 100: \n",
    "    print(it)\n",
    "    try:\n",
    "        q = Epasso(data,normal,param)\n",
    "        param = Mpasso(data,q,param)\n",
    "        it+=1\n",
    "    except:\n",
    "        print('matriz singular - novos parametros gerados')\n",
    "        param = gera_param(k,d)\n",
    "        it = 0"
   ]
  },
  {
   "cell_type": "code",
   "execution_count": 23,
   "metadata": {
    "collapsed": false
   },
   "outputs": [
    {
     "data": {
      "text/plain": [
       "[[array([ 4.44340006,  2.75959584,  3.28144212]),\n",
       "  matrix([[ 0.2027572 , -0.30114195,  0.22229435],\n",
       "          [-0.30114195,  0.47630163, -0.31289139],\n",
       "          [ 0.22229435, -0.31289139,  0.26504136]]),\n",
       "  0.021610291967011093],\n",
       " [array([ 8.84753814,  6.90714447,  3.0174037 ]),\n",
       "  matrix([[ 0.95919277,  2.04970806, -2.118127  ],\n",
       "          [ 2.04970806,  5.75714613, -5.82733837],\n",
       "          [-2.118127  , -5.82733837,  6.96459978]]),\n",
       "  0.65365851903371319],\n",
       " [array([ 3.55422502,  2.69227747,  2.93044797]),\n",
       "  matrix([[ 0.74314031, -0.07127254,  0.02876938],\n",
       "          [-0.07127254,  0.27073849, -0.21008906],\n",
       "          [ 0.02876938, -0.21008906,  0.44662744]]),\n",
       "  0.32473118899927561]]"
      ]
     },
     "execution_count": 23,
     "metadata": {},
     "output_type": "execute_result"
    }
   ],
   "source": [
    "param"
   ]
  },
  {
   "cell_type": "code",
   "execution_count": 21,
   "metadata": {
    "collapsed": false
   },
   "outputs": [
    {
     "data": {
      "text/plain": [
       "[[array([ 9.65754826,  9.10533628,  0.5065607 ]),\n",
       "  array([[ 0.27533313,  0.01654628,  0.12637572],\n",
       "         [ 0.01654628,  0.16974777,  0.02258024],\n",
       "         [ 0.12637572,  0.02258024,  0.31996468]]),\n",
       "  0.3015069359335944],\n",
       " [array([ 3.60543962,  2.76979756,  2.91007914]),\n",
       "  array([[ 0.6923468 , -0.09474552,  0.06698367],\n",
       "         [-0.09474552,  0.27264213, -0.20260829],\n",
       "         [ 0.06698367, -0.20260829,  0.45598575]]),\n",
       "  0.28437240327882396],\n",
       " [array([ 7.96316214,  4.45363697,  5.66749492]),\n",
       "  array([[ 0.20154847,  0.12506019,  0.02191133],\n",
       "         [ 0.12506019,  0.69026946,  0.22723273],\n",
       "         [ 0.02191133,  0.22723273,  0.25569563]]),\n",
       "  0.4141206607875817]]"
      ]
     },
     "execution_count": 21,
     "metadata": {},
     "output_type": "execute_result"
    }
   ],
   "source": [
    "par_orig"
   ]
  },
  {
   "cell_type": "code",
   "execution_count": null,
   "metadata": {
    "collapsed": true
   },
   "outputs": [],
   "source": []
  }
 ],
 "metadata": {
  "kernelspec": {
   "display_name": "Python 3",
   "language": "python",
   "name": "python3"
  },
  "language_info": {
   "codemirror_mode": {
    "name": "ipython",
    "version": 3
   },
   "file_extension": ".py",
   "mimetype": "text/x-python",
   "name": "python",
   "nbconvert_exporter": "python",
   "pygments_lexer": "ipython3",
   "version": "3.6.0"
  }
 },
 "nbformat": 4,
 "nbformat_minor": 2
}
